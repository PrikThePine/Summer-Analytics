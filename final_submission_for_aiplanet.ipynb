{
 "cells": [
  {
   "cell_type": "code",
   "execution_count": 7,
   "id": "93237710",
   "metadata": {},
   "outputs": [],
   "source": [
    "import pandas as pd\n",
    "import numpy as np\n",
    "from sklearn.model_selection import train_test_split, GridSearchCV, StratifiedKFold\n",
    "from sklearn.ensemble import RandomForestClassifier, GradientBoostingClassifier\n",
    "from sklearn.metrics import f1_score, accuracy_score\n",
    "from sklearn.pipeline import Pipeline\n",
    "from sklearn.impute import SimpleImputer\n",
    "from sklearn.preprocessing import StandardScaler, OneHotEncoder\n",
    "from sklearn.compose import ColumnTransformer\n",
    "from sklearn.exceptions import ConvergenceWarning\n"
   ]
  },
  {
   "cell_type": "code",
   "execution_count": 8,
   "id": "690f90cc",
   "metadata": {},
   "outputs": [],
   "source": [
    "def load_and_clean():\n",
    "    train = pd.read_csv('Train_Data.csv')\n",
    "    test = pd.read_csv('Test_Data.csv')\n",
    "    \n",
    "    column_map = {\n",
    "        'BWKBWL': 'BMXBMI',\n",
    "        'LENGUU': 'LBXGLU',\n",
    "        'SEQW': 'SEQN',\n",
    "        'RIAGENDR': 'Gender',\n",
    "        'PAQ605': 'PhysicalActivity'\n",
    "    }\n",
    "    train = train.rename(columns=column_map)\n",
    "    test = test.rename(columns=column_map)\n",
    "    train = train.dropna(subset=['age_group'])\n",
    "    \n",
    "    return train, test\n",
    "\n",
    "train_data, test_data = load_and_clean()"
   ]
  },
  {
   "cell_type": "code",
   "execution_count": 9,
   "id": "318fd1ff",
   "metadata": {},
   "outputs": [],
   "source": [
    "def create_features(df):\n",
    "    median_bmi = df['BMXBMI'].median()\n",
    "    df['BMI_Category'] = pd.cut(\n",
    "        df['BMXBMI'].fillna(median_bmi),\n",
    "        bins=[0, 18.5, 25, 30, 100],\n",
    "        labels=['Underweight', 'Normal', 'Overweight', 'Obese']\n",
    "    )\n",
    "    \n",
    "    median_glu = df['LBXGLU'].median()\n",
    "    df['High_Glucose'] = (df['LBXGLU'].fillna(median_glu) > 125).astype(int)\n",
    "    df['Glucose_Level'] = pd.cut(\n",
    "        df['LBXGLU'].fillna(median_glu),\n",
    "        bins=[0, 99, 125, 200, 500],\n",
    "        labels=['Normal', 'Prediabetes', 'Diabetes', 'Severe']\n",
    "    )\n",
    "    \n",
    "    return df"
   ]
  },
  {
   "cell_type": "code",
   "execution_count": 10,
   "id": "f90930cb",
   "metadata": {},
   "outputs": [],
   "source": [
    "X_train = create_features(train_data).drop(['SEQN', 'age_group'], axis=1)\n",
    "y_train = train_data['age_group'].map({'Adult': 0, 'Senior': 1})\n",
    "X_test = create_features(test_data).drop(['SEQN'], axis=1)\n",
    "\n",
    "numeric_features = X_train.select_dtypes(include='number').columns.tolist()\n",
    "categorical_features = X_train.select_dtypes(exclude='number').columns.tolist()\n",
    "\n",
    "preprocessor = ColumnTransformer([\n",
    "    ('num', Pipeline([\n",
    "        ('imputer', SimpleImputer(strategy='median')),\n",
    "        ('scaler', StandardScaler())\n",
    "    ]), numeric_features),\n",
    "    ('cat', Pipeline([\n",
    "        ('imputer', SimpleImputer(strategy='most_frequent')),\n",
    "        ('onehot', OneHotEncoder(handle_unknown='ignore', sparse_output=False))\n",
    "    ]), categorical_features)\n",
    "], remainder='passthrough')"
   ]
  },
  {
   "cell_type": "code",
   "execution_count": 11,
   "id": "517a6e47",
   "metadata": {},
   "outputs": [],
   "source": [
    "models = {\n",
    "    'RandomForest': {\n",
    "        'model': RandomForestClassifier(class_weight='balanced'),\n",
    "        'params': {\n",
    "            'model__n_estimators': [100, 200],\n",
    "            'model__max_depth': [3, 5, None],\n",
    "            'model__min_samples_split': [2, 5]\n",
    "        }\n",
    "    }\n",
    "}\n",
    "best_model = None\n",
    "best_score = 0\n",
    "cv = StratifiedKFold(n_splits=5, shuffle=True, random_state=42)"
   ]
  },
  {
   "cell_type": "code",
   "execution_count": 12,
   "id": "7d597b3d",
   "metadata": {},
   "outputs": [
    {
     "name": "stdout",
     "output_type": "stream",
     "text": [
      "\n",
      "RandomForest\n",
      "0.4278\n"
     ]
    }
   ],
   "source": [
    "for name, config in models.items():\n",
    "    pipe = Pipeline([\n",
    "        ('preprocessor', preprocessor),\n",
    "        ('model', config['model'])\n",
    "    ])\n",
    "    \n",
    "    grid = GridSearchCV(\n",
    "        pipe,\n",
    "        config['params'],\n",
    "        cv=cv,\n",
    "        scoring='f1',\n",
    "        n_jobs=-1,\n",
    "        error_score='raise'\n",
    "    )\n",
    "    \n",
    "    grid.fit(X_train, y_train)\n",
    "    \n",
    "    if grid.best_score_ > best_score:\n",
    "        best_score = grid.best_score_\n",
    "        best_model = grid.best_estimator_\n",
    "        print(f\"\\n{name}\")\n",
    "        print(f\"{best_score:.4f}\")\n",
    "            "
   ]
  },
  {
   "cell_type": "code",
   "execution_count": 13,
   "id": "73a8576e",
   "metadata": {},
   "outputs": [],
   "source": [
    "test_preds = best_model.predict(X_test)\n",
    "pd.DataFrame({\n",
    "        'SEQN': test_data['SEQN'],\n",
    "        'age_group': test_preds\n",
    "    }).to_csv('final_submission.csv', index=False)"
   ]
  }
 ],
 "metadata": {
  "kernelspec": {
   "display_name": "base",
   "language": "python",
   "name": "python3"
  },
  "language_info": {
   "codemirror_mode": {
    "name": "ipython",
    "version": 3
   },
   "file_extension": ".py",
   "mimetype": "text/x-python",
   "name": "python",
   "nbconvert_exporter": "python",
   "pygments_lexer": "ipython3",
   "version": "3.12.7"
  }
 },
 "nbformat": 4,
 "nbformat_minor": 5
}
